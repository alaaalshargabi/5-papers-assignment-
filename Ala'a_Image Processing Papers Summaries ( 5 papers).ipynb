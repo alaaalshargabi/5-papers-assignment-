{
 "cells": [
  {
   "cell_type": "markdown",
   "metadata": {},
   "source": [
    "1. This paper introduced a new real-time super resolution method. It was used to achieve the best result in higher peak-to-peak signal-to-noise ratio (PSNR) and structural similarity (SSIM) values as method of interpolation art. The method presented some Bi-linear, and Bi-cubic interpolation filters to be able to reduce the unaligned artifacts  when moving towards each edge area.\n",
    "# W. Kang et al., \"Real-time super-resolution for digital zooming using finite kernel-based edge orientation estimation and truncated image restoration,\" 2013 IEEE International Conference on Image Processing, Melbourne, VIC, 2013, pp. 1311-1315.doi: 10.1109/ICIP.2013.6738270\n",
    "\n",
    "2. The paper presented a proposed scheme for image soothing, graphics processing  structure, and reducing computational complexity. The algorithm used  a combination of gradient, Laplacian, and diagonal derivatives of a processed graphic. For computational complexity, parallel processing structure was used and proved to perform  with 18 times lower complexity.\n",
    "# C. Cho and S. Lee, \"Effective Five Directional Partial Derivatives-Based Image Smoothing and a Parallel Structure Design,\" in IEEE Transactions on Image Processing, vol. 25, no. 4, pp. 1617-1625, April 2016.doi: 10.1109/TIP.2016.2526785\n",
    "\n",
    "3. This paper introduced an algorithm that uses geographical points of spread functions for the purpose of  anti-blurring for 3D multi-viewing. Lucy-Richardson algorithm was extended to be used in this model. The algorithm was measured to provide more accuracy in images resolutions. \n",
    " \n",
    "# M. Temerinac-Ott, O. Ronneberger, P. Ochs, W. Driever, T. Brox and H. Burkhardt, \"Multiview Deblurring for 3-D Images from Light-Sheet-Based Fluorescence Microscopy,\" in IEEE Transactions on Image Processing, vol. 21, no. 4, pp. 1863-1873, April 2012.doi: 10.1109/TIP.2011.2181528\n",
    "\n",
    "\n",
    "4. Although Thermal Imaging (IR) is only supporting low resolution technically, it is still used vitally nowadays in industry.  This paper, presented using a visible camera to result in super improvement for IR images resolution.  IR-Color-multi-sensor-system was used, and proved to perform well.\n",
    "\n",
    "# X. Chen, G. Zhai, J. Wang, C. Hu and Y. Chen, \"Color guided thermal image super resolution,\" 2016 Visual Communications and Image Processing (VCIP), Chengdu, 2016, pp. 1-4. doi: 10.1109/VCIP.2016.7805509\n",
    "5. Although multi-scale models are used to produce the best image quality, which is similar to human visual system,  image quality assessment (IQA) methods showed that resolution levels are still fixed. As a result, this paper proposed  an adaptive high frequency clipping model which aims to approximate the parts of effective visual data of an image that enters the human visual system. Results, showed that the quality of algorithms in imaging can be improved by applying the proposed model. \n",
    "\n",
    "\n",
    "# K. Gu et al., \"Adaptive high-frequency clipping for improved image quality assessment,\" 2013 Visual Communications and Image Processing (VCIP), Kuching, 2013, pp. 1-5.doi: 10.1109/VCIP.2013.6706347\n",
    "\n",
    "\n",
    "\n"
   ]
  }
 ],
 "metadata": {
  "kernelspec": {
   "display_name": "Python 3",
   "language": "python",
   "name": "python3"
  },
  "language_info": {
   "codemirror_mode": {
    "name": "ipython",
    "version": 3
   },
   "file_extension": ".py",
   "mimetype": "text/x-python",
   "name": "python",
   "nbconvert_exporter": "python",
   "pygments_lexer": "ipython3",
   "version": "3.7.0"
  }
 },
 "nbformat": 4,
 "nbformat_minor": 2
}
